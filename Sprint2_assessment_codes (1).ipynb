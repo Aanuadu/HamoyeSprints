{
 "cells": [
  {
   "cell_type": "code",
   "execution_count": 1,
   "metadata": {},
   "outputs": [
    {
     "name": "stdout",
     "output_type": "stream",
     "text": [
      "                      date  Appliances  lights         T1       RH_1  \\\n",
      "0      2016-01-11 17:00:00          60      30  19.890000  47.596667   \n",
      "1      2016-01-11 17:10:00          60      30  19.890000  46.693333   \n",
      "2      2016-01-11 17:20:00          50      30  19.890000  46.300000   \n",
      "3      2016-01-11 17:30:00          50      40  19.890000  46.066667   \n",
      "4      2016-01-11 17:40:00          60      40  19.890000  46.333333   \n",
      "...                    ...         ...     ...        ...        ...   \n",
      "19730  2016-05-27 17:20:00         100       0  25.566667  46.560000   \n",
      "19731  2016-05-27 17:30:00          90       0  25.500000  46.500000   \n",
      "19732  2016-05-27 17:40:00         270      10  25.500000  46.596667   \n",
      "19733  2016-05-27 17:50:00         420      10  25.500000  46.990000   \n",
      "19734  2016-05-27 18:00:00         430      10  25.500000  46.600000   \n",
      "\n",
      "              T2       RH_2         T3       RH_3         T4  ...         T9  \\\n",
      "0      19.200000  44.790000  19.790000  44.730000  19.000000  ...  17.033333   \n",
      "1      19.200000  44.722500  19.790000  44.790000  19.000000  ...  17.066667   \n",
      "2      19.200000  44.626667  19.790000  44.933333  18.926667  ...  17.000000   \n",
      "3      19.200000  44.590000  19.790000  45.000000  18.890000  ...  17.000000   \n",
      "4      19.200000  44.530000  19.790000  45.000000  18.890000  ...  17.000000   \n",
      "...          ...        ...        ...        ...        ...  ...        ...   \n",
      "19730  25.890000  42.025714  27.200000  41.163333  24.700000  ...  23.200000   \n",
      "19731  25.754000  42.080000  27.133333  41.223333  24.700000  ...  23.200000   \n",
      "19732  25.628571  42.768571  27.050000  41.690000  24.700000  ...  23.200000   \n",
      "19733  25.414000  43.036000  26.890000  41.290000  24.700000  ...  23.200000   \n",
      "19734  25.264286  42.971429  26.823333  41.156667  24.700000  ...  23.200000   \n",
      "\n",
      "          RH_9      T_out  Press_mm_hg     RH_out  Windspeed  Visibility  \\\n",
      "0      45.5300   6.600000        733.5  92.000000   7.000000   63.000000   \n",
      "1      45.5600   6.483333        733.6  92.000000   6.666667   59.166667   \n",
      "2      45.5000   6.366667        733.7  92.000000   6.333333   55.333333   \n",
      "3      45.4000   6.250000        733.8  92.000000   6.000000   51.500000   \n",
      "4      45.4000   6.133333        733.9  92.000000   5.666667   47.666667   \n",
      "...        ...        ...          ...        ...        ...         ...   \n",
      "19730  46.7900  22.733333        755.2  55.666667   3.333333   23.666667   \n",
      "19731  46.7900  22.600000        755.2  56.000000   3.500000   24.500000   \n",
      "19732  46.7900  22.466667        755.2  56.333333   3.666667   25.333333   \n",
      "19733  46.8175  22.333333        755.2  56.666667   3.833333   26.166667   \n",
      "19734  46.8450  22.200000        755.2  57.000000   4.000000   27.000000   \n",
      "\n",
      "       Tdewpoint        rv1        rv2  \n",
      "0       5.300000  13.275433  13.275433  \n",
      "1       5.200000  18.606195  18.606195  \n",
      "2       5.100000  28.642668  28.642668  \n",
      "3       5.000000  45.410389  45.410389  \n",
      "4       4.900000  10.084097  10.084097  \n",
      "...          ...        ...        ...  \n",
      "19730  13.333333  43.096812  43.096812  \n",
      "19731  13.300000  49.282940  49.282940  \n",
      "19732  13.266667  29.199117  29.199117  \n",
      "19733  13.233333   6.322784   6.322784  \n",
      "19734  13.200000  34.118851  34.118851  \n",
      "\n",
      "[19735 rows x 29 columns]\n"
     ]
    }
   ],
   "source": [
    "import pandas as pd\n",
    "energydata=pd.read_csv('https://archive.ics.uci.edu/ml/machine-learning-databases/00374/energydata_complete.csv')\n",
    "print(energydata)"
   ]
  },
  {
   "cell_type": "code",
   "execution_count": 16,
   "metadata": {},
   "outputs": [
    {
     "data": {
      "text/plain": [
       "<matplotlib.axes._subplots.AxesSubplot at 0x1bc594ad648>"
      ]
     },
     "execution_count": 16,
     "metadata": {},
     "output_type": "execute_result"
    },
    {
     "data": {
      "image/png": "[encoded data removed]",
      "text/plain": [
       "<Figure size 432x288 with 1 Axes>"
      ]
     },
     "metadata": {
      "needs_background": "light"
     },
     "output_type": "display_data"
    }
   ],
   "source": [
    "import matplotlib.pyplot as plt\n",
    "import seaborn as sns\n",
    "simple_linear_regression_energydata = energydata[['T2', 'T6']].sample(15, random_state=2)\n",
    "sns.regplot(x=\"T2\", y=\"T6\", data = simple_linear_regression_energydata)"
   ]
  },
  {
   "cell_type": "code",
   "execution_count": 4,
   "metadata": {},
   "outputs": [
    {
     "name": "stdout",
     "output_type": "stream",
     "text": [
      "       Appliances         T1       RH_1         T2       RH_2         T3  \\\n",
      "0              60  19.890000  47.596667  19.200000  44.790000  19.790000   \n",
      "1              60  19.890000  46.693333  19.200000  44.722500  19.790000   \n",
      "2              50  19.890000  46.300000  19.200000  44.626667  19.790000   \n",
      "3              50  19.890000  46.066667  19.200000  44.590000  19.790000   \n",
      "4              60  19.890000  46.333333  19.200000  44.530000  19.790000   \n",
      "...           ...        ...        ...        ...        ...        ...   \n",
      "19730         100  25.566667  46.560000  25.890000  42.025714  27.200000   \n",
      "19731          90  25.500000  46.500000  25.754000  42.080000  27.133333   \n",
      "19732         270  25.500000  46.596667  25.628571  42.768571  27.050000   \n",
      "19733         420  25.500000  46.990000  25.414000  43.036000  26.890000   \n",
      "19734         430  25.500000  46.600000  25.264286  42.971429  26.823333   \n",
      "\n",
      "            RH_3         T4       RH_4         T5  ...         T9     RH_9  \\\n",
      "0      44.730000  19.000000  45.566667  17.166667  ...  17.033333  45.5300   \n",
      "1      44.790000  19.000000  45.992500  17.166667  ...  17.066667  45.5600   \n",
      "2      44.933333  18.926667  45.890000  17.166667  ...  17.000000  45.5000   \n",
      "3      45.000000  18.890000  45.723333  17.166667  ...  17.000000  45.4000   \n",
      "4      45.000000  18.890000  45.530000  17.200000  ...  17.000000  45.4000   \n",
      "...          ...        ...        ...        ...  ...        ...      ...   \n",
      "19730  41.163333  24.700000  45.590000  23.200000  ...  23.200000  46.7900   \n",
      "19731  41.223333  24.700000  45.590000  23.230000  ...  23.200000  46.7900   \n",
      "19732  41.690000  24.700000  45.730000  23.230000  ...  23.200000  46.7900   \n",
      "19733  41.290000  24.700000  45.790000  23.200000  ...  23.200000  46.8175   \n",
      "19734  41.156667  24.700000  45.963333  23.200000  ...  23.200000  46.8450   \n",
      "\n",
      "           T_out  Press_mm_hg     RH_out  Windspeed  Visibility  Tdewpoint  \\\n",
      "0       6.600000        733.5  92.000000   7.000000   63.000000   5.300000   \n",
      "1       6.483333        733.6  92.000000   6.666667   59.166667   5.200000   \n",
      "2       6.366667        733.7  92.000000   6.333333   55.333333   5.100000   \n",
      "3       6.250000        733.8  92.000000   6.000000   51.500000   5.000000   \n",
      "4       6.133333        733.9  92.000000   5.666667   47.666667   4.900000   \n",
      "...          ...          ...        ...        ...         ...        ...   \n",
      "19730  22.733333        755.2  55.666667   3.333333   23.666667  13.333333   \n",
      "19731  22.600000        755.2  56.000000   3.500000   24.500000  13.300000   \n",
      "19732  22.466667        755.2  56.333333   3.666667   25.333333  13.266667   \n",
      "19733  22.333333        755.2  56.666667   3.833333   26.166667  13.233333   \n",
      "19734  22.200000        755.2  57.000000   4.000000   27.000000  13.200000   \n",
      "\n",
      "             rv1        rv2  \n",
      "0      13.275433  13.275433  \n",
      "1      18.606195  18.606195  \n",
      "2      28.642668  28.642668  \n",
      "3      45.410389  45.410389  \n",
      "4      10.084097  10.084097  \n",
      "...          ...        ...  \n",
      "19730  43.096812  43.096812  \n",
      "19731  49.282940  49.282940  \n",
      "19732  29.199117  29.199117  \n",
      "19733   6.322784   6.322784  \n",
      "19734  34.118851  34.118851  \n",
      "\n",
      "[19735 rows x 27 columns]\n"
     ]
    }
   ],
   "source": [
    "energydata = energydata.drop(columns = ['date','lights'])\n",
    "print(energydata)"
   ]
  },
  {
   "cell_type": "code",
   "execution_count": 6,
   "metadata": {},
   "outputs": [
    {
     "data": {
      "text/plain": [
       "0.15"
      ]
     },
     "execution_count": 6,
     "metadata": {},
     "output_type": "execute_result"
    }
   ],
   "source": [
    "from sklearn.preprocessing import MinMaxScaler\n",
    "scaler = MinMaxScaler()\n",
    "\n",
    "normalised_energydata = pd.DataFrame(scaler.fit_transform(energydata), columns=['Appliances','T1', 'RH_1', 'T2', 'RH_2', 'T3', 'RH_3','T4', 'RH_4', 'T5','RH_5', 'T6', 'RH_6', 'T7', 'RH_7', 'T8', 'RH_8', 'T9', 'RH_9', 'T_out', 'Press_mm_hg', 'RH_out', 'Windspeed', 'Visibility ', 'Tdewpoint', 'rv1', 'rv2'])\n",
    "features = normalised_energydata.drop(columns=['Appliances'])\n",
    "target_variable = normalised_energydata ['Appliances']\n",
    "\n",
    "from sklearn.model_selection import train_test_split\n",
    "x_train, x_test, y_train, y_test = train_test_split(features, target_variable, test_size=0.3, random_state=42)\n",
    "\n",
    "\n",
    "from sklearn import linear_model\n",
    "linear_model =  linear_model.LinearRegression()\n",
    "linear_model.fit(x_train, y_train)\n",
    "predicted_values = linear_model.predict(x_test)\n",
    "\n",
    "#r2\n",
    "from sklearn.metrics import r2_score\n",
    "r2_score = r2_score(y_test, predicted_values)\n",
    "round(r2_score, 2)\n"
   ]
  },
  {
   "cell_type": "code",
   "execution_count": 7,
   "metadata": {},
   "outputs": [
    {
     "name": "stdout",
     "output_type": "stream",
     "text": [
      "0.05013362397742957\n"
     ]
    }
   ],
   "source": [
    "from sklearn.metrics import mean_absolute_error\n",
    "mae = mean_absolute_error(y_test, predicted_values)\n",
    "round(mae, 2)\n",
    "print(mae)"
   ]
  },
  {
   "cell_type": "code",
   "execution_count": 8,
   "metadata": {},
   "outputs": [
    {
     "data": {
      "text/plain": [
       "45.35"
      ]
     },
     "execution_count": 8,
     "metadata": {},
     "output_type": "execute_result"
    }
   ],
   "source": [
    "import numpy as np\n",
    "rss = np.sum(np.square(y_test - predicted_values))\n",
    "round(rss, 2) "
   ]
  },
  {
   "cell_type": "code",
   "execution_count": 9,
   "metadata": {},
   "outputs": [
    {
     "data": {
      "text/plain": [
       "0.088"
      ]
     },
     "execution_count": 9,
     "metadata": {},
     "output_type": "execute_result"
    }
   ],
   "source": [
    "from sklearn.metrics import  mean_squared_error\n",
    "rmse = np.sqrt(mean_squared_error(y_test, predicted_values))\n",
    "round(rmse, 3)"
   ]
  },
  {
   "cell_type": "code",
   "execution_count": 10,
   "metadata": {},
   "outputs": [
    {
     "data": {
      "text/plain": [
       "0.15"
      ]
     },
     "execution_count": 10,
     "metadata": {},
     "output_type": "execute_result"
    }
   ],
   "source": [
    "#coefficient of determination\n",
    "from sklearn.metrics import r2_score\n",
    "r2_score = r2_score(y_test, predicted_values)\n",
    "round(r2_score, 2)"
   ]
  },
  {
   "cell_type": "code",
   "execution_count": 17,
   "metadata": {},
   "outputs": [
    {
     "data": {
      "text/plain": [
       "Lasso(alpha=0.001, copy_X=True, fit_intercept=True, max_iter=1000,\n",
       "      normalize=False, positive=False, precompute=False, random_state=None,\n",
       "      selection='cyclic', tol=0.0001, warm_start=False)"
      ]
     },
     "execution_count": 17,
     "metadata": {},
     "output_type": "execute_result"
    }
   ],
   "source": [
    "from sklearn.linear_model import Lasso\n",
    "lasso_reg = Lasso(alpha=0.001)\n",
    "lasso_reg.fit(x_train, y_train)"
   ]
  },
  {
   "cell_type": "code",
   "execution_count": 18,
   "metadata": {},
   "outputs": [
    {
     "data": {
      "text/plain": [
       "Ridge(alpha=0.5, copy_X=True, fit_intercept=True, max_iter=None,\n",
       "      normalize=False, random_state=None, solver='auto', tol=0.001)"
      ]
     },
     "execution_count": 18,
     "metadata": {},
     "output_type": "execute_result"
    }
   ],
   "source": [
    "from sklearn.linear_model import Ridge\n",
    "ridge_reg = Ridge(alpha=0.4)\n",
    "ridge_reg.fit(x_train, y_train)"
   ]
  },
  {
   "cell_type": "code",
   "execution_count": 30,
   "metadata": {},
   "outputs": [
    {
     "name": "stdout",
     "output_type": "stream",
     "text": [
      "       Features  Linear_Model_Weight  Ridge_Weight  Lasso_weight\n",
      "0          RH_2            -0.456698     -0.119070     -0.000000\n",
      "1         T_out            -0.321860     -0.056858      0.000000\n",
      "2            T2            -0.236178      0.000486      0.000000\n",
      "3            T9            -0.189941     -0.137461     -0.000000\n",
      "4          RH_8            -0.157595     -0.135209     -0.000110\n",
      "5        RH_out            -0.077671     -0.008632     -0.049557\n",
      "6          RH_7            -0.044614     -0.055982     -0.000000\n",
      "7          RH_9            -0.039800     -0.049351     -0.000000\n",
      "8            T5            -0.015657     -0.044279     -0.000000\n",
      "9            T1            -0.003281     -0.065026      0.000000\n",
      "10          rv1             0.000770      0.000589     -0.000000\n",
      "11          rv2             0.000770      0.000589     -0.000000\n",
      "12  Press_mm_hg             0.006839      0.001423     -0.000000\n",
      "13           T7             0.010319     -0.003969     -0.000000\n",
      "14  Visibility              0.012307      0.010864      0.000000\n",
      "15         RH_5             0.016006      0.016053      0.000000\n",
      "16         RH_4             0.026386      0.017365      0.000000\n",
      "17           T4             0.028981      0.009404     -0.000000\n",
      "18    Windspeed             0.029183      0.030060      0.002912\n",
      "19         RH_6             0.038049      0.022163     -0.000000\n",
      "20         RH_3             0.096048      0.092313      0.000000\n",
      "21           T8             0.101995      0.073012      0.000000\n",
      "22    Tdewpoint             0.117758     -0.010989      0.000000\n",
      "23           T6             0.236425      0.103914      0.000000\n",
      "24           T3             0.290627      0.222244      0.000000\n",
      "25         RH_1             0.553547      0.265624      0.017880\n"
     ]
    }
   ],
   "source": [
    "#comparing the effects of regularisation\n",
    "def get_weights_energy_data(model, feat, col_name):\n",
    "#this function returns the weight of every feature\n",
    "\n",
    " weights = pd.Series(model.coef_, feat.columns).sort_values()\n",
    " weights_energydata = pd.DataFrame(weights).reset_index()\n",
    " weights_energydata.columns = ['Features', col_name]\n",
    " weights_energydata[col_name].round(3)\n",
    " return weights_energydata\n",
    "\n",
    "linear_model_weights = get_weights_energydata (linear_model, x_train, 'Linear_Model_Weight')\n",
    "ridge_weights_energydata = get_weights_energydata (ridge_reg, x_train, 'Ridge_Weight')\n",
    "lasso_weights_energydata = get_weights_energydata (lasso_reg, x_train, 'Lasso_weight')\n",
    "\n",
    "final_weights = pd.merge(linear_model_weights, ridge_weights_energydata, on='Features')\n",
    "final_weights = pd.merge(final_weights, lasso_weights_energydata, on='Features')\n",
    "print(final_weights)"
   ]
  },
  {
   "cell_type": "code",
   "execution_count": 40,
   "metadata": {},
   "outputs": [
    {
     "name": "stdout",
     "output_type": "stream",
     "text": [
      "0.08898674137699943\n"
     ]
    }
   ],
   "source": [
    "rr = Ridge(alpha=0.04)\n",
    "rr.fit(x_train, y_train) \n",
    "pred_train_rr= rr.predict(x_train)\n",
    "print(np.sqrt(mean_squared_error(y_train,pred_train_rr)))"
   ]
  },
  {
   "cell_type": "code",
   "execution_count": 35,
   "metadata": {},
   "outputs": [
    {
     "name": "stdout",
     "output_type": "stream",
     "text": [
      "0.09501109253338288\n"
     ]
    }
   ],
   "source": [
    "model_lasso = Lasso(alpha=0.001)\n",
    "model_lasso.fit(x_train, y_train) \n",
    "pred_train_lasso= model_lasso.predict(x_train)\n",
    "print(np.sqrt(mean_squared_error(y_train,pred_train_lasso)))"
   ]
  },
  {
   "cell_type": "code",
   "execution_count": null,
   "metadata": {},
   "outputs": [],
   "source": []
  }
 ],
 "metadata": {
  "kernelspec": {
   "display_name": "Python 3",
   "language": "python",
   "name": "python3"
  },
  "language_info": {
   "codemirror_mode": {
    "name": "ipython",
    "version": 3
   },
   "file_extension": ".py",
   "mimetype": "text/x-python",
   "name": "python",
   "nbconvert_exporter": "python",
   "pygments_lexer": "ipython3",
   "version": "3.7.6"
  }
 },
 "nbformat": 4,
 "nbformat_minor": 4
}
