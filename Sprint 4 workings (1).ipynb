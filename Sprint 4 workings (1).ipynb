{
 "cells": [
  {
   "cell_type": "code",
   "execution_count": 1,
   "metadata": {},
   "outputs": [
    {
     "name": "stdout",
     "output_type": "stream",
     "text": [
      "Requirement already satisfied: requests in c:\\users\\oluwaniran\\anaconda3\\lib\\site-packages (2.22.0)\n",
      "Requirement already satisfied: chardet<3.1.0,>=3.0.2 in c:\\users\\oluwaniran\\anaconda3\\lib\\site-packages (from requests) (3.0.4)\n",
      "Requirement already satisfied: urllib3!=1.25.0,!=1.25.1,<1.26,>=1.21.1 in c:\\users\\oluwaniran\\anaconda3\\lib\\site-packages (from requests) (1.25.8)\n",
      "Requirement already satisfied: idna<2.9,>=2.5 in c:\\users\\oluwaniran\\anaconda3\\lib\\site-packages (from requests) (2.8)\n",
      "Requirement already satisfied: certifi>=2017.4.17 in c:\\users\\oluwaniran\\anaconda3\\lib\\site-packages (from requests) (2019.11.28)\n",
      "Note: you may need to restart the kernel to use updated packages.\n"
     ]
    }
   ],
   "source": [
    "pip install requests"
   ]
  },
  {
   "cell_type": "code",
   "execution_count": 2,
   "metadata": {},
   "outputs": [],
   "source": [
    "import requests\n",
    "from bs4 import BeautifulSoup"
   ]
  },
  {
   "cell_type": "code",
   "execution_count": 3,
   "metadata": {},
   "outputs": [],
   "source": [
    "page=requests.get('https://web.archive.org/web/20121007173059/http://www.nga.gov/collection/anX1.htm')\n",
    "soup = BeautifulSoup(page.text, 'html.parser')"
   ]
  },
  {
   "cell_type": "code",
   "execution_count": 4,
   "metadata": {},
   "outputs": [
    {
     "data": {
      "text/plain": [
       "<Response [200]>"
      ]
     },
     "execution_count": 4,
     "metadata": {},
     "output_type": "execute_result"
    }
   ],
   "source": [
    "page"
   ]
  },
  {
   "cell_type": "code",
   "execution_count": 11,
   "metadata": {},
   "outputs": [
    {
     "name": "stdout",
     "output_type": "stream",
     "text": [
      "<a href=\"/web/20121007173059/http://www.nga.gov/cgi-bin/tsearch?artistid=2336\">\n",
      " Xanto, fra\n",
      "</a>\n",
      "<a href=\"/web/20121007173059/http://www.nga.gov/cgi-bin/tsearch?artistid=2336\">\n",
      " Xanto Avelli, Francesco\n",
      "</a>\n",
      "<a href=\"/web/20121007173059/http://www.nga.gov/cgi-bin/tsearch?artistid=22354\">\n",
      " Xceron, Jean\n",
      "</a>\n",
      "<a href=\"/web/20121007173059/http://www.nga.gov/cgi-bin/tsearch?artistid=34152\">\n",
      " Ximenez, Alfredo\n",
      "</a>\n"
     ]
    }
   ],
   "source": [
    "#Pull all text from the BodyText div\n",
    "artist_name_list = soup.find(class_='BodyText')\n",
    "\n",
    "#Pull text from all instances of <a> tag within BodyText div\n",
    "artist_name_list_items = artist_name_list.find_all('a')\n",
    "\n",
    "#Create for loop to print out all artists' names\n",
    "for artist_name in artist_name_list_items:\n",
    " print(artist_name.prettify())"
   ]
  },
  {
   "cell_type": "code",
   "execution_count": 12,
   "metadata": {},
   "outputs": [
    {
     "name": "stdout",
     "output_type": "stream",
     "text": [
      "Xanto, fra\n",
      "Xanto Avelli, Francesco\n",
      "Xceron, Jean\n",
      "Ximenez, Alfredo\n"
     ]
    }
   ],
   "source": [
    "# Use .contents to pull out the <a> tag’s children\n",
    "for artist_name in artist_name_list_items:\n",
    "    names = artist_name.contents[0]\n",
    "    print(names)"
   ]
  },
  {
   "cell_type": "code",
   "execution_count": 13,
   "metadata": {},
   "outputs": [
    {
     "name": "stdout",
     "output_type": "stream",
     "text": [
      "Xanto, fra\n",
      "https://web.archive.org/web/20121007173059/http://www.nga.gov/cgi-bin/tsearch?artistid=2336\n",
      "Xanto Avelli, Francesco\n",
      "https://web.archive.org/web/20121007173059/http://www.nga.gov/cgi-bin/tsearch?artistid=2336\n",
      "Xceron, Jean\n",
      "https://web.archive.org/web/20121007173059/http://www.nga.gov/cgi-bin/tsearch?artistid=22354\n",
      "Ximenez, Alfredo\n",
      "https://web.archive.org/web/20121007173059/http://www.nga.gov/cgi-bin/tsearch?artistid=34152\n"
     ]
    }
   ],
   "source": [
    "for artist_name in artist_name_list_items:\n",
    "    names = artist_name.contents[0]\n",
    "    links = 'https://web.archive.org' + artist_name.get('href')\n",
    "    print(names)\n",
    "    print(links)"
   ]
  },
  {
   "cell_type": "code",
   "execution_count": null,
   "metadata": {},
   "outputs": [],
   "source": []
  }
 ],
 "metadata": {
  "kernelspec": {
   "display_name": "Python 3",
   "language": "python",
   "name": "python3"
  },
  "language_info": {
   "codemirror_mode": {
    "name": "ipython",
    "version": 3
   },
   "file_extension": ".py",
   "mimetype": "text/x-python",
   "name": "python",
   "nbconvert_exporter": "python",
   "pygments_lexer": "ipython3",
   "version": "3.7.6"
  }
 },
 "nbformat": 4,
 "nbformat_minor": 4
}
