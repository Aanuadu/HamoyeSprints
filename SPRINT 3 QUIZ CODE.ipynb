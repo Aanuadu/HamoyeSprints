{
 "cells": [
  {
   "cell_type": "code",
   "execution_count": 2,
   "metadata": {},
   "outputs": [
    {
     "name": "stdout",
     "output_type": "stream",
     "text": [
      "        Country                Item  Year  Value\n",
      "0       Algeria  Wheat and products  2004   2731\n",
      "1       Algeria  Wheat and products  2005   2415\n",
      "2       Algeria  Wheat and products  2006   2688\n",
      "3       Algeria  Wheat and products  2007   2319\n",
      "4       Algeria  Wheat and products  2008   1111\n",
      "...         ...                 ...   ...    ...\n",
      "23105  Zimbabwe         Crustaceans  2009      0\n",
      "23106  Zimbabwe         Crustaceans  2010      0\n",
      "23107  Zimbabwe         Crustaceans  2011      0\n",
      "23108  Zimbabwe         Crustaceans  2012      0\n",
      "23109  Zimbabwe         Crustaceans  2013      0\n",
      "\n",
      "[23110 rows x 4 columns]\n"
     ]
    }
   ],
   "source": [
    "#import the datasets\n",
    "import pandas as pd\n",
    "productionDataset = pd.read_csv('https://www.wolframcloud.com/obj/mar/Hamoye/Session%202/Data/Africa%20Food%20Production%20(2004%20-%202013).csv')\n",
    "productionDataset['Year'] = pd.to_datetime(productionDataset['Year'], format = '%Y').dt.year\n",
    "print(productionDataset)"
   ]
  },
  {
   "cell_type": "code",
   "execution_count": 5,
   "metadata": {},
   "outputs": [
    {
     "name": "stdout",
     "output_type": "stream",
     "text": [
      "      Country  Year  Value\n",
      "0     Algeria  2004   2987\n",
      "1     Algeria  2005   2958\n",
      "2     Algeria  2006   3047\n",
      "3     Algeria  2007   3041\n",
      "4     Algeria  2008   3048\n",
      "..        ...   ...    ...\n",
      "445  Zimbabwe  2009   2147\n",
      "446  Zimbabwe  2010   2168\n",
      "447  Zimbabwe  2011   2200\n",
      "448  Zimbabwe  2012   2197\n",
      "449  Zimbabwe  2013   2110\n",
      "\n",
      "[450 rows x 3 columns]\n"
     ]
    },
    {
     "data": {
      "text/plain": [
       "Country    object\n",
       "Year        int64\n",
       "Value       int64\n",
       "dtype: object"
      ]
     },
     "execution_count": 5,
     "metadata": {},
     "output_type": "execute_result"
    }
   ],
   "source": [
    "import pandas as pd\n",
    "consumptionData=pd.read_csv('https://www.wolframcloud.com/obj/mar/Hamoye/Session%202/Data/Africa%20Food%20Supply%20(2004%20-%202013).csv')\n",
    "consumptionData['Year'] = pd.to_datetime(consumptionData['Year'], format = '%Y').dt.year\n",
    "print(consumptionData)\n",
    "consumptionData.dtypes"
   ]
  },
  {
   "cell_type": "code",
   "execution_count": 18,
   "metadata": {},
   "outputs": [
    {
     "name": "stdout",
     "output_type": "stream",
     "text": [
      "                             Year  Value\n",
      "Country                                 \n",
      "Zambia                       6015   5577\n",
      "Ethiopia                     6015   5827\n",
      "Central African Republic     6015   6044\n",
      "Rwanda                       6015   6050\n",
      "Chad                         6015   6082\n",
      "Madagascar                   6015   6123\n",
      "Zimbabwe                     6015   6184\n",
      "Mozambique                   6015   6208\n",
      "Angola                       6015   6226\n",
      "Sierra Leone                 6015   6261\n",
      "Kenya                        6015   6344\n",
      "Liberia                      6015   6368\n",
      "United Republic of Tanzania  6015   6373\n",
      "Congo                        6015   6449\n",
      "Botswana                     6015   6539\n",
      "Malawi                       6015   6626\n",
      "Djibouti                     6015   6715\n",
      "Namibia                      6015   6741\n",
      "Togo                         6015   6767\n",
      "Guinea-Bissau                6015   6783\n",
      "Senegal                      6015   6795\n",
      "Sudan                        6015   6898\n",
      "Cameroon                     6015   6911\n",
      "Uganda                       6015   6954\n",
      "Swaziland                    6015   7166\n",
      "Gambia                       6015   7304\n",
      "Niger                        6015   7339\n",
      "Benin                        6015   7346\n",
      "Guinea                       6015   7372\n",
      "Burkina Faso                 6015   7527\n",
      "Cabo Verde                   6015   7553\n",
      "Sao Tome and Principe        6015   7613\n",
      "Lesotho                      6015   7703\n",
      "Mali                         6015   7777\n",
      "Mauritania                   6015   7831\n",
      "Nigeria                      6015   8085\n",
      "Gabon                        6015   8107\n",
      "Ghana                        6015   8257\n",
      "Cote d'Ivoire                6015   8308\n",
      "South Africa                 6015   8819\n",
      "Algeria                      6015   8992\n",
      "Mauritius                    6015   9054\n",
      "Morocco                      6015   9740\n",
      "Tunisia                      6015   9741\n",
      "Egypt                        6015  10065\n"
     ]
    }
   ],
   "source": [
    "consumptionData_filter = consumptionData.loc[consumptionData['Year'] >= 2004, ]\n",
    "consumptionData_filter2 = consumptionData_filter[consumptionData['Year'] <= 2006]\n",
    "filter3 = consumptionData_filter2.groupby('Country').sum()\n",
    "filter3.sort_values(by=['Value'], inplace=True)\n",
    "print(filter3)"
   ]
  },
  {
   "cell_type": "code",
   "execution_count": 9,
   "metadata": {},
   "outputs": [
    {
     "data": {
      "text/html": [
       "<div>\n",
       "<style scoped>\n",
       "    .dataframe tbody tr th:only-of-type {\n",
       "        vertical-align: middle;\n",
       "    }\n",
       "\n",
       "    .dataframe tbody tr th {\n",
       "        vertical-align: top;\n",
       "    }\n",
       "\n",
       "    .dataframe thead th {\n",
       "        text-align: right;\n",
       "    }\n",
       "</style>\n",
       "<table border=\"1\" class=\"dataframe\">\n",
       "  <thead>\n",
       "    <tr style=\"text-align: right;\">\n",
       "      <th></th>\n",
       "      <th>Country</th>\n",
       "      <th>Item</th>\n",
       "      <th>Year</th>\n",
       "      <th>Value</th>\n",
       "    </tr>\n",
       "  </thead>\n",
       "  <tbody>\n",
       "    <tr>\n",
       "      <th>46</th>\n",
       "      <td>Algeria</td>\n",
       "      <td>Oats</td>\n",
       "      <td>2010</td>\n",
       "      <td>88</td>\n",
       "    </tr>\n",
       "    <tr>\n",
       "      <th>6406</th>\n",
       "      <td>Ethiopia</td>\n",
       "      <td>Oats</td>\n",
       "      <td>2010</td>\n",
       "      <td>48</td>\n",
       "    </tr>\n",
       "    <tr>\n",
       "      <th>7746</th>\n",
       "      <td>Ghana</td>\n",
       "      <td>Oats</td>\n",
       "      <td>2010</td>\n",
       "      <td>0</td>\n",
       "    </tr>\n",
       "    <tr>\n",
       "      <th>9286</th>\n",
       "      <td>Kenya</td>\n",
       "      <td>Oats</td>\n",
       "      <td>2010</td>\n",
       "      <td>3</td>\n",
       "    </tr>\n",
       "    <tr>\n",
       "      <th>10026</th>\n",
       "      <td>Lesotho</td>\n",
       "      <td>Oats</td>\n",
       "      <td>2010</td>\n",
       "      <td>0</td>\n",
       "    </tr>\n",
       "    <tr>\n",
       "      <th>13186</th>\n",
       "      <td>Morocco</td>\n",
       "      <td>Oats</td>\n",
       "      <td>2010</td>\n",
       "      <td>37</td>\n",
       "    </tr>\n",
       "    <tr>\n",
       "      <th>17816</th>\n",
       "      <td>South Africa</td>\n",
       "      <td>Oats</td>\n",
       "      <td>2010</td>\n",
       "      <td>34</td>\n",
       "    </tr>\n",
       "    <tr>\n",
       "      <th>20056</th>\n",
       "      <td>Tunisia</td>\n",
       "      <td>Oats</td>\n",
       "      <td>2010</td>\n",
       "      <td>2</td>\n",
       "    </tr>\n",
       "    <tr>\n",
       "      <th>22516</th>\n",
       "      <td>Zimbabwe</td>\n",
       "      <td>Oats</td>\n",
       "      <td>2010</td>\n",
       "      <td>1</td>\n",
       "    </tr>\n",
       "  </tbody>\n",
       "</table>\n",
       "</div>"
      ],
      "text/plain": [
       "            Country  Item  Year  Value\n",
       "46          Algeria  Oats  2010     88\n",
       "6406       Ethiopia  Oats  2010     48\n",
       "7746          Ghana  Oats  2010      0\n",
       "9286          Kenya  Oats  2010      3\n",
       "10026       Lesotho  Oats  2010      0\n",
       "13186       Morocco  Oats  2010     37\n",
       "17816  South Africa  Oats  2010     34\n",
       "20056       Tunisia  Oats  2010      2\n",
       "22516      Zimbabwe  Oats  2010      1"
      ]
     },
     "execution_count": 9,
     "metadata": {},
     "output_type": "execute_result"
    }
   ],
   "source": [
    "productionDataset1= pd.DataFrame(productionDataset)\n",
    "productionDataset_oat_filtered = productionDataset1.loc[productionDataset1['Item'] == 'Oats']\n",
    "productionDataset_oat_filtered1 = productionDataset_oat_filtered.loc[productionDataset1_filtered['Year'] == 2010]\n",
    "productionDataset_oat_filtered1"
   ]
  },
  {
   "cell_type": "code",
   "execution_count": 10,
   "metadata": {},
   "outputs": [
    {
     "name": "stdout",
     "output_type": "stream",
     "text": [
      "                             Value\n",
      "Country                           \n",
      "Algeria                          0\n",
      "Swaziland                        0\n",
      "Mauritius                        1\n",
      "Zimbabwe                         1\n",
      "Congo                           10\n",
      "Gabon                           10\n",
      "South Africa                    22\n",
      "Angola                         103\n",
      "Sudan                          170\n",
      "Zambia                         212\n",
      "Central African Republic       261\n",
      "Niger                          267\n",
      "Morocco                        274\n",
      "Gambia                         325\n",
      "Ethiopia                       469\n",
      "Rwanda                         482\n",
      "Kenya                          504\n",
      "Togo                           653\n",
      "Malawi                         674\n",
      "Mauritania                     751\n",
      "Cameroon                       767\n",
      "Benin                          850\n",
      "Guinea-Bissau                 1030\n",
      "Mozambique                    1110\n",
      "Chad                          1167\n",
      "Uganda                        1234\n",
      "Burkina Faso                  1265\n",
      "Liberia                       1602\n",
      "Ghana                         2443\n",
      "Senegal                       2462\n",
      "Sierra Leone                  6038\n",
      "Cote d'Ivoire                 6439\n",
      "Mali                         10371\n",
      "Guinea                       10400\n",
      "United Republic of Tanzania  10956\n",
      "Madagascar                   26118\n",
      "Nigeria                      26964\n",
      "Egypt                        40370\n"
     ]
    }
   ],
   "source": [
    "#productionDataset retrieve \n",
    "productionDataset_rice_filtered = productionDataset.loc[productionDataset['Item'] == 'Rice (Milled Equivalent)' ]\n",
    "productionDataset_rice_filtered1 = productionDataset_rice_filtered.loc[productionDataset_rice_filtered['Year'] >= 2004 ]\n",
    "productionDataset_rice_filtered2 = productionDataset_rice_filtered1.loc[productionDataset_rice_filtered1['Year'] <= 2013]\n",
    "productionDataset_rice_filtered3 = productionDataset_rice_filtered2.groupby('Country').agg({\"Value\" : \"sum\"})\n",
    "productionDataset_rice_filtered3.sort_values(by=['Value'], inplace=True)\n",
    "print(productionDataset_rice_filtered3)"
   ]
  },
  {
   "cell_type": "code",
   "execution_count": null,
   "metadata": {},
   "outputs": [],
   "source": []
  }
 ],
 "metadata": {
  "kernelspec": {
   "display_name": "Python 3",
   "language": "python",
   "name": "python3"
  },
  "language_info": {
   "codemirror_mode": {
    "name": "ipython",
    "version": 3
   },
   "file_extension": ".py",
   "mimetype": "text/x-python",
   "name": "python",
   "nbconvert_exporter": "python",
   "pygments_lexer": "ipython3",
   "version": "3.7.6"
  }
 },
 "nbformat": 4,
 "nbformat_minor": 4
}
